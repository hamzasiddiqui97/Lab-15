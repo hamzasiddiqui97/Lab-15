{
 "cells": [
  {
   "cell_type": "markdown",
   "metadata": {},
   "source": [
    "19B-097-SE Hamza Siddiqui Lab 15 SE-B"
   ]
  },
  {
   "cell_type": "code",
   "execution_count": 4,
   "metadata": {},
   "outputs": [
    {
     "name": "stdout",
     "output_type": "stream",
     "text": [
      "C:\\Users\\Brothers\\Desktop\\Desktop\n"
     ]
    }
   ],
   "source": [
    "import pandas as pd\n",
    "import os\n",
    "file_path = os.path.abspath('../Desktop/')\n",
    "print(file_path)\n",
    "train = pd.read_csv('Index.csv')"
   ]
  },
  {
   "cell_type": "code",
   "execution_count": 5,
   "metadata": {},
   "outputs": [
    {
     "data": {
      "text/html": [
       "<div>\n",
       "<style scoped>\n",
       "    .dataframe tbody tr th:only-of-type {\n",
       "        vertical-align: middle;\n",
       "    }\n",
       "\n",
       "    .dataframe tbody tr th {\n",
       "        vertical-align: top;\n",
       "    }\n",
       "\n",
       "    .dataframe thead th {\n",
       "        text-align: right;\n",
       "    }\n",
       "</style>\n",
       "<table border=\"1\" class=\"dataframe\">\n",
       "  <thead>\n",
       "    <tr style=\"text-align: right;\">\n",
       "      <th></th>\n",
       "      <th>Year</th>\n",
       "      <th>Month</th>\n",
       "      <th>Day</th>\n",
       "      <th>Federal Funds Target Rate</th>\n",
       "      <th>Federal Funds Upper Target</th>\n",
       "      <th>Federal Funds Lower Target</th>\n",
       "      <th>Effective Federal Funds Rate</th>\n",
       "      <th>Real GDP (Percent Change)</th>\n",
       "      <th>Unemployment Rate</th>\n",
       "      <th>Inflation Rate</th>\n",
       "    </tr>\n",
       "  </thead>\n",
       "  <tbody>\n",
       "    <tr>\n",
       "      <th>0</th>\n",
       "      <td>1954</td>\n",
       "      <td>7</td>\n",
       "      <td>1</td>\n",
       "      <td>NaN</td>\n",
       "      <td>NaN</td>\n",
       "      <td>NaN</td>\n",
       "      <td>0.80</td>\n",
       "      <td>4.6</td>\n",
       "      <td>5.8</td>\n",
       "      <td>NaN</td>\n",
       "    </tr>\n",
       "    <tr>\n",
       "      <th>1</th>\n",
       "      <td>1954</td>\n",
       "      <td>8</td>\n",
       "      <td>1</td>\n",
       "      <td>NaN</td>\n",
       "      <td>NaN</td>\n",
       "      <td>NaN</td>\n",
       "      <td>1.22</td>\n",
       "      <td>NaN</td>\n",
       "      <td>6.0</td>\n",
       "      <td>NaN</td>\n",
       "    </tr>\n",
       "    <tr>\n",
       "      <th>2</th>\n",
       "      <td>1954</td>\n",
       "      <td>9</td>\n",
       "      <td>1</td>\n",
       "      <td>NaN</td>\n",
       "      <td>NaN</td>\n",
       "      <td>NaN</td>\n",
       "      <td>1.06</td>\n",
       "      <td>NaN</td>\n",
       "      <td>6.1</td>\n",
       "      <td>NaN</td>\n",
       "    </tr>\n",
       "    <tr>\n",
       "      <th>3</th>\n",
       "      <td>1954</td>\n",
       "      <td>10</td>\n",
       "      <td>1</td>\n",
       "      <td>NaN</td>\n",
       "      <td>NaN</td>\n",
       "      <td>NaN</td>\n",
       "      <td>0.85</td>\n",
       "      <td>8.0</td>\n",
       "      <td>5.7</td>\n",
       "      <td>NaN</td>\n",
       "    </tr>\n",
       "    <tr>\n",
       "      <th>4</th>\n",
       "      <td>1954</td>\n",
       "      <td>11</td>\n",
       "      <td>1</td>\n",
       "      <td>NaN</td>\n",
       "      <td>NaN</td>\n",
       "      <td>NaN</td>\n",
       "      <td>0.83</td>\n",
       "      <td>NaN</td>\n",
       "      <td>5.3</td>\n",
       "      <td>NaN</td>\n",
       "    </tr>\n",
       "  </tbody>\n",
       "</table>\n",
       "</div>"
      ],
      "text/plain": [
       "   Year  Month  Day  Federal Funds Target Rate  Federal Funds Upper Target  \\\n",
       "0  1954      7    1                        NaN                         NaN   \n",
       "1  1954      8    1                        NaN                         NaN   \n",
       "2  1954      9    1                        NaN                         NaN   \n",
       "3  1954     10    1                        NaN                         NaN   \n",
       "4  1954     11    1                        NaN                         NaN   \n",
       "\n",
       "   Federal Funds Lower Target  Effective Federal Funds Rate  \\\n",
       "0                         NaN                          0.80   \n",
       "1                         NaN                          1.22   \n",
       "2                         NaN                          1.06   \n",
       "3                         NaN                          0.85   \n",
       "4                         NaN                          0.83   \n",
       "\n",
       "   Real GDP (Percent Change)  Unemployment Rate  Inflation Rate  \n",
       "0                        4.6                5.8             NaN  \n",
       "1                        NaN                6.0             NaN  \n",
       "2                        NaN                6.1             NaN  \n",
       "3                        8.0                5.7             NaN  \n",
       "4                        NaN                5.3             NaN  "
      ]
     },
     "execution_count": 5,
     "metadata": {},
     "output_type": "execute_result"
    }
   ],
   "source": [
    "train.head()"
   ]
  },
  {
   "cell_type": "code",
   "execution_count": 6,
   "metadata": {},
   "outputs": [
    {
     "data": {
      "text/plain": [
       "(904, 10)"
      ]
     },
     "execution_count": 6,
     "metadata": {},
     "output_type": "execute_result"
    }
   ],
   "source": [
    "train.shape"
   ]
  },
  {
   "cell_type": "code",
   "execution_count": 7,
   "metadata": {},
   "outputs": [
    {
     "data": {
      "text/plain": [
       "Year                              int64\n",
       "Month                             int64\n",
       "Day                               int64\n",
       "Federal Funds Target Rate       float64\n",
       "Federal Funds Upper Target      float64\n",
       "Federal Funds Lower Target      float64\n",
       "Effective Federal Funds Rate    float64\n",
       "Real GDP (Percent Change)       float64\n",
       "Unemployment Rate               float64\n",
       "Inflation Rate                  float64\n",
       "dtype: object"
      ]
     },
     "execution_count": 7,
     "metadata": {},
     "output_type": "execute_result"
    }
   ],
   "source": [
    "train.dtypes"
   ]
  },
  {
   "cell_type": "code",
   "execution_count": 8,
   "metadata": {},
   "outputs": [
    {
     "name": "stdout",
     "output_type": "stream",
     "text": [
      "Index(['Federal Funds Target Rate', 'Federal Funds Upper Target',\n",
      "       'Federal Funds Lower Target', 'Effective Federal Funds Rate',\n",
      "       'Real GDP (Percent Change)', 'Unemployment Rate', 'Inflation Rate'],\n",
      "      dtype='object')\n"
     ]
    }
   ],
   "source": [
    "categorical_var = train.dtypes.loc[train.dtypes=='float64'].index\n",
    "print(categorical_var) "
   ]
  },
  {
   "cell_type": "code",
   "execution_count": 9,
   "metadata": {},
   "outputs": [
    {
     "data": {
      "text/plain": [
       "Federal Funds Target Rate        64\n",
       "Federal Funds Upper Target        5\n",
       "Federal Funds Lower Target        5\n",
       "Effective Federal Funds Rate    467\n",
       "Real GDP (Percent Change)       114\n",
       "Unemployment Rate                72\n",
       "Inflation Rate                  107\n",
       "dtype: int64"
      ]
     },
     "execution_count": 9,
     "metadata": {},
     "output_type": "execute_result"
    }
   ],
   "source": [
    "train[categorical_var].apply(lambda x:len(x.unique())) "
   ]
  },
  {
   "cell_type": "code",
   "execution_count": 10,
   "metadata": {},
   "outputs": [
    {
     "data": {
      "text/plain": [
       "12"
      ]
     },
     "execution_count": 10,
     "metadata": {},
     "output_type": "execute_result"
    }
   ],
   "source": [
    "train['Month'].unique()\n",
    "len(train['Month'].unique())"
   ]
  },
  {
   "cell_type": "code",
   "execution_count": 11,
   "metadata": {},
   "outputs": [
    {
     "data": {
      "text/plain": [
       "1     753\n",
       "6      10\n",
       "30      8\n",
       "9       7\n",
       "11      7\n",
       "14      7\n",
       "22      7\n",
       "20      7\n",
       "19      7\n",
       "18      6\n",
       "2       6\n",
       "17      6\n",
       "31      6\n",
       "21      6\n",
       "24      6\n",
       "16      6\n",
       "15      5\n",
       "25      5\n",
       "27      5\n",
       "29      5\n",
       "8       4\n",
       "7       4\n",
       "5       4\n",
       "4       4\n",
       "13      3\n",
       "10      3\n",
       "28      3\n",
       "3       3\n",
       "23      1\n",
       "Name: Day, dtype: int64"
      ]
     },
     "execution_count": 11,
     "metadata": {},
     "output_type": "execute_result"
    }
   ],
   "source": [
    "train['Day'].unique()\n",
    "# Print counts of each category\n",
    "train['Day'].value_counts()"
   ]
  },
  {
   "cell_type": "code",
   "execution_count": 12,
   "metadata": {},
   "outputs": [
    {
     "data": {
      "text/plain": [
       "1984    0.027655\n",
       "1988    0.026549\n",
       "1989    0.025442\n",
       "2001    0.025442\n",
       "1985    0.023230\n",
       "1987    0.023230\n",
       "1991    0.023230\n",
       "1983    0.022124\n",
       "2005    0.021018\n",
       "1986    0.021018\n",
       "2008    0.021018\n",
       "1994    0.019912\n",
       "1990    0.018805\n",
       "2004    0.018805\n",
       "2006    0.017699\n",
       "1982    0.017699\n",
       "1998    0.016593\n",
       "1992    0.016593\n",
       "2007    0.016593\n",
       "1999    0.016593\n",
       "2000    0.016593\n",
       "1995    0.015487\n",
       "2015    0.014381\n",
       "1996    0.014381\n",
       "2003    0.014381\n",
       "1997    0.014381\n",
       "2016    0.014381\n",
       "2002    0.014381\n",
       "1970    0.013274\n",
       "1969    0.013274\n",
       "          ...   \n",
       "1963    0.013274\n",
       "1964    0.013274\n",
       "1962    0.013274\n",
       "1961    0.013274\n",
       "1960    0.013274\n",
       "1972    0.013274\n",
       "1959    0.013274\n",
       "1957    0.013274\n",
       "1958    0.013274\n",
       "1971    0.013274\n",
       "1981    0.013274\n",
       "1973    0.013274\n",
       "1955    0.013274\n",
       "2009    0.013274\n",
       "1993    0.013274\n",
       "2010    0.013274\n",
       "2011    0.013274\n",
       "2012    0.013274\n",
       "2013    0.013274\n",
       "2014    0.013274\n",
       "1974    0.013274\n",
       "1980    0.013274\n",
       "1979    0.013274\n",
       "1978    0.013274\n",
       "1977    0.013274\n",
       "1976    0.013274\n",
       "1975    0.013274\n",
       "1956    0.013274\n",
       "1954    0.006637\n",
       "2017    0.004425\n",
       "Name: Year, Length: 64, dtype: float64"
      ]
     },
     "execution_count": 12,
     "metadata": {},
     "output_type": "execute_result"
    }
   ],
   "source": [
    "train['Year'].value_counts()\n",
    "train['Year'].value_counts()/train.shape[0]"
   ]
  },
  {
   "cell_type": "code",
   "execution_count": 13,
   "metadata": {},
   "outputs": [
    {
     "name": "stdout",
     "output_type": "stream",
     "text": [
      "Effective Federal Funds Rate  0.07  0.08  0.09  0.1  0.11  0.12  0.13  0.14  \\\n",
      "Year                                                                          \n",
      "1954                             0     0     0    0     0     0     0     0   \n",
      "1955                             0     0     0    0     0     0     0     0   \n",
      "1956                             0     0     0    0     0     0     0     0   \n",
      "1957                             0     0     0    0     0     0     0     0   \n",
      "1958                             0     0     0    0     0     0     0     0   \n",
      "1959                             0     0     0    0     0     0     0     0   \n",
      "1960                             0     0     0    0     0     0     0     0   \n",
      "1961                             0     0     0    0     0     0     0     0   \n",
      "1962                             0     0     0    0     0     0     0     0   \n",
      "1963                             0     0     0    0     0     0     0     0   \n",
      "1964                             0     0     0    0     0     0     0     0   \n",
      "1965                             0     0     0    0     0     0     0     0   \n",
      "1966                             0     0     0    0     0     0     0     0   \n",
      "1967                             0     0     0    0     0     0     0     0   \n",
      "1968                             0     0     0    0     0     0     0     0   \n",
      "1969                             0     0     0    0     0     0     0     0   \n",
      "1970                             0     0     0    0     0     0     0     0   \n",
      "1971                             0     0     0    0     0     0     0     0   \n",
      "1972                             0     0     0    0     0     0     0     0   \n",
      "1973                             0     0     0    0     0     0     0     0   \n",
      "1974                             0     0     0    0     0     0     0     0   \n",
      "1975                             0     0     0    0     0     0     0     0   \n",
      "1976                             0     0     0    0     0     0     0     0   \n",
      "1977                             0     0     0    0     0     0     0     0   \n",
      "1978                             0     0     0    0     0     0     0     0   \n",
      "1979                             0     0     0    0     0     0     0     0   \n",
      "1980                             0     0     0    0     0     0     0     0   \n",
      "1981                             0     0     0    0     0     0     0     0   \n",
      "1982                             0     0     0    0     0     0     0     0   \n",
      "1983                             0     0     0    0     0     0     0     0   \n",
      "...                            ...   ...   ...  ...   ...   ...   ...   ...   \n",
      "1989                             0     0     0    0     0     0     0     0   \n",
      "1990                             0     0     0    0     0     0     0     0   \n",
      "1991                             0     0     0    0     0     0     0     0   \n",
      "1992                             0     0     0    0     0     0     0     0   \n",
      "1993                             0     0     0    0     0     0     0     0   \n",
      "1994                             0     0     0    0     0     0     0     0   \n",
      "1995                             0     0     0    0     0     0     0     0   \n",
      "1996                             0     0     0    0     0     0     0     0   \n",
      "1997                             0     0     0    0     0     0     0     0   \n",
      "1998                             0     0     0    0     0     0     0     0   \n",
      "1999                             0     0     0    0     0     0     0     0   \n",
      "2000                             0     0     0    0     0     0     0     0   \n",
      "2001                             0     0     0    0     0     0     0     0   \n",
      "2002                             0     0     0    0     0     0     0     0   \n",
      "2003                             0     0     0    0     0     0     0     0   \n",
      "2004                             0     0     0    0     0     0     0     0   \n",
      "2005                             0     0     0    0     0     0     0     0   \n",
      "2006                             0     0     0    0     0     0     0     0   \n",
      "2007                             0     0     0    0     0     0     0     0   \n",
      "2008                             0     0     0    0     0     0     0     0   \n",
      "2009                             0     0     0    0     0     3     0     0   \n",
      "2010                             0     0     0    0     1     0     1     0   \n",
      "2011                             3     2     2    2     0     0     0     1   \n",
      "2012                             0     1     0    1     0     0     2     2   \n",
      "2013                             0     3     4    0     1     0     0     2   \n",
      "2014                             2     1     7    1     0     1     0     0   \n",
      "2015                             0     0     0    0     3     4     2     2   \n",
      "2016                             0     0     0    0     0     0     0     0   \n",
      "2017                             0     0     0    0     0     0     0     0   \n",
      "All                              5     7    13    4     5     8     5     7   \n",
      "\n",
      "Effective Federal Funds Rate  0.15  0.16  ...  15.93  17.19  17.61  17.82  \\\n",
      "Year                                      ...                               \n",
      "1954                             0     0  ...      0      0      0      0   \n",
      "1955                             0     0  ...      0      0      0      0   \n",
      "1956                             0     0  ...      0      0      0      0   \n",
      "1957                             0     0  ...      0      0      0      0   \n",
      "1958                             0     0  ...      0      0      0      0   \n",
      "1959                             0     0  ...      0      0      0      0   \n",
      "1960                             0     0  ...      0      0      0      0   \n",
      "1961                             0     0  ...      0      0      0      0   \n",
      "1962                             0     0  ...      0      0      0      0   \n",
      "1963                             0     0  ...      0      0      0      0   \n",
      "1964                             0     0  ...      0      0      0      0   \n",
      "1965                             0     0  ...      0      0      0      0   \n",
      "1966                             0     0  ...      0      0      0      0   \n",
      "1967                             0     0  ...      0      0      0      0   \n",
      "1968                             0     0  ...      0      0      0      0   \n",
      "1969                             0     0  ...      0      0      0      0   \n",
      "1970                             0     0  ...      0      0      0      0   \n",
      "1971                             0     0  ...      0      0      0      0   \n",
      "1972                             0     0  ...      0      0      0      0   \n",
      "1973                             0     0  ...      0      0      0      0   \n",
      "1974                             0     0  ...      0      0      0      0   \n",
      "1975                             0     0  ...      0      0      0      0   \n",
      "1976                             0     0  ...      0      0      0      0   \n",
      "1977                             0     0  ...      0      0      0      0   \n",
      "1978                             0     0  ...      0      0      0      0   \n",
      "1979                             0     0  ...      0      0      0      0   \n",
      "1980                             0     0  ...      0      1      1      0   \n",
      "1981                             0     0  ...      1      0      0      1   \n",
      "1982                             0     0  ...      0      0      0      0   \n",
      "1983                             0     0  ...      0      0      0      0   \n",
      "...                            ...   ...  ...    ...    ...    ...    ...   \n",
      "1989                             0     0  ...      0      0      0      0   \n",
      "1990                             0     0  ...      0      0      0      0   \n",
      "1991                             0     0  ...      0      0      0      0   \n",
      "1992                             0     0  ...      0      0      0      0   \n",
      "1993                             0     0  ...      0      0      0      0   \n",
      "1994                             0     0  ...      0      0      0      0   \n",
      "1995                             0     0  ...      0      0      0      0   \n",
      "1996                             0     0  ...      0      0      0      0   \n",
      "1997                             0     0  ...      0      0      0      0   \n",
      "1998                             0     0  ...      0      0      0      0   \n",
      "1999                             0     0  ...      0      0      0      0   \n",
      "2000                             0     0  ...      0      0      0      0   \n",
      "2001                             0     0  ...      0      0      0      0   \n",
      "2002                             0     0  ...      0      0      0      0   \n",
      "2003                             0     0  ...      0      0      0      0   \n",
      "2004                             0     0  ...      0      0      0      0   \n",
      "2005                             0     0  ...      0      0      0      0   \n",
      "2006                             0     0  ...      0      0      0      0   \n",
      "2007                             0     0  ...      0      0      0      0   \n",
      "2008                             0     1  ...      0      0      0      0   \n",
      "2009                             3     2  ...      0      0      0      0   \n",
      "2010                             0     1  ...      0      0      0      0   \n",
      "2011                             0     1  ...      0      0      0      0   \n",
      "2012                             0     6  ...      0      0      0      0   \n",
      "2013                             2     0  ...      0      0      0      0   \n",
      "2014                             0     0  ...      0      0      0      0   \n",
      "2015                             0     0  ...      0      0      0      0   \n",
      "2016                             0     0  ...      0      0      0      0   \n",
      "2017                             0     0  ...      0      0      0      0   \n",
      "All                              5    11  ...      1      1      1      1   \n",
      "\n",
      "Effective Federal Funds Rate  18.52  18.9  19.04  19.08  19.1  All  \n",
      "Year                                                                \n",
      "1954                              0     0      0      0     0    6  \n",
      "1955                              0     0      0      0     0   12  \n",
      "1956                              0     0      0      0     0   12  \n",
      "1957                              0     0      0      0     0   12  \n",
      "1958                              0     0      0      0     0   12  \n",
      "1959                              0     0      0      0     0   12  \n",
      "1960                              0     0      0      0     0   12  \n",
      "1961                              0     0      0      0     0   12  \n",
      "1962                              0     0      0      0     0   12  \n",
      "1963                              0     0      0      0     0   12  \n",
      "1964                              0     0      0      0     0   12  \n",
      "1965                              0     0      0      0     0   12  \n",
      "1966                              0     0      0      0     0   12  \n",
      "1967                              0     0      0      0     0   12  \n",
      "1968                              0     0      0      0     0   12  \n",
      "1969                              0     0      0      0     0   12  \n",
      "1970                              0     0      0      0     0   12  \n",
      "1971                              0     0      0      0     0   12  \n",
      "1972                              0     0      0      0     0   12  \n",
      "1973                              0     0      0      0     0   12  \n",
      "1974                              0     0      0      0     0   12  \n",
      "1975                              0     0      0      0     0   12  \n",
      "1976                              0     0      0      0     0   12  \n",
      "1977                              0     0      0      0     0   12  \n",
      "1978                              0     0      0      0     0   12  \n",
      "1979                              0     0      0      0     0   12  \n",
      "1980                              0     1      0      0     0   12  \n",
      "1981                              1     0      1      1     1   12  \n",
      "1982                              0     0      0      0     0   12  \n",
      "1983                              0     0      0      0     0   12  \n",
      "...                             ...   ...    ...    ...   ...  ...  \n",
      "1989                              0     0      0      0     0   12  \n",
      "1990                              0     0      0      0     0   12  \n",
      "1991                              0     0      0      0     0   12  \n",
      "1992                              0     0      0      0     0   12  \n",
      "1993                              0     0      0      0     0   12  \n",
      "1994                              0     0      0      0     0   12  \n",
      "1995                              0     0      0      0     0   12  \n",
      "1996                              0     0      0      0     0   12  \n",
      "1997                              0     0      0      0     0   12  \n",
      "1998                              0     0      0      0     0   12  \n",
      "1999                              0     0      0      0     0   12  \n",
      "2000                              0     0      0      0     0   12  \n",
      "2001                              0     0      0      0     0   12  \n",
      "2002                              0     0      0      0     0   12  \n",
      "2003                              0     0      0      0     0   12  \n",
      "2004                              0     0      0      0     0   12  \n",
      "2005                              0     0      0      0     0   12  \n",
      "2006                              0     0      0      0     0   12  \n",
      "2007                              0     0      0      0     0   12  \n",
      "2008                              0     0      0      0     0   12  \n",
      "2009                              0     0      0      0     0   12  \n",
      "2010                              0     0      0      0     0   12  \n",
      "2011                              0     0      0      0     0   12  \n",
      "2012                              0     0      0      0     0   12  \n",
      "2013                              0     0      0      0     0   12  \n",
      "2014                              0     0      0      0     0   12  \n",
      "2015                              0     0      0      0     0   12  \n",
      "2016                              0     0      0      0     0   12  \n",
      "2017                              0     0      0      0     0    2  \n",
      "All                               1     1      1      1     1  752  \n",
      "\n",
      "[65 rows x 467 columns]\n"
     ]
    }
   ],
   "source": [
    "cross_tab = pd.crosstab(train['Year'],train['Effective Federal Funds Rate'],margins=True)\n",
    "print(cross_tab) "
   ]
  },
  {
   "cell_type": "code",
   "execution_count": 19,
   "metadata": {},
   "outputs": [
    {
     "data": {
      "text/plain": [
       "<matplotlib.axes._subplots.AxesSubplot at 0x1db24f17cf8>"
      ]
     },
     "execution_count": 19,
     "metadata": {},
     "output_type": "execute_result"
    },
    {
     "data": {
      "image/png": "[encoded data removed]",
      "text/plain": [
       "<Figure size 432x288 with 1 Axes>"
      ]
     },
     "metadata": {
      "needs_background": "light"
     },
     "output_type": "display_data"
    }
   ],
   "source": [
    "%matplotlib inline\n",
    "cross_tab.iloc[:2,:2].plot(kind='bar',stacked=True, color=['red','blue'], grid=True) "
   ]
  },
  {
   "cell_type": "code",
   "execution_count": 20,
   "metadata": {},
   "outputs": [
    {
     "data": {
      "text/plain": [
       "<matplotlib.axes._subplots.AxesSubplot at 0x1db24f3a240>"
      ]
     },
     "execution_count": 20,
     "metadata": {},
     "output_type": "execute_result"
    },
    {
     "data": {
      "image/png": "[encoded data removed]",
      "text/plain": [
       "<Figure size 432x288 with 1 Axes>"
      ]
     },
     "metadata": {
      "needs_background": "light"
     },
     "output_type": "display_data"
    }
   ],
   "source": [
    "train.plot('Month','Day', kind='Scatter', grid=True) "
   ]
  },
  {
   "cell_type": "code",
   "execution_count": 21,
   "metadata": {},
   "outputs": [
    {
     "data": {
      "text/plain": [
       "<matplotlib.axes._subplots.AxesSubplot at 0x1db24faed68>"
      ]
     },
     "execution_count": 21,
     "metadata": {},
     "output_type": "execute_result"
    },
    {
     "data": {
      "image/png": "[encoded data removed]",
      "text/plain": [
       "<Figure size 432x288 with 1 Axes>"
      ]
     },
     "metadata": {
      "needs_background": "light"
     },
     "output_type": "display_data"
    }
   ],
   "source": [
    "train.boxplot(column='Month',by='Day')"
   ]
  },
  {
   "cell_type": "code",
   "execution_count": 23,
   "metadata": {},
   "outputs": [
    {
     "data": {
      "text/html": [
       "<div>\n",
       "<style scoped>\n",
       "    .dataframe tbody tr th:only-of-type {\n",
       "        vertical-align: middle;\n",
       "    }\n",
       "\n",
       "    .dataframe tbody tr th {\n",
       "        vertical-align: top;\n",
       "    }\n",
       "\n",
       "    .dataframe thead th {\n",
       "        text-align: right;\n",
       "    }\n",
       "</style>\n",
       "<table border=\"1\" class=\"dataframe\">\n",
       "  <thead>\n",
       "    <tr style=\"text-align: right;\">\n",
       "      <th></th>\n",
       "      <th>Year</th>\n",
       "      <th>Month</th>\n",
       "      <th>Day</th>\n",
       "      <th>Federal Funds Target Rate</th>\n",
       "      <th>Federal Funds Upper Target</th>\n",
       "      <th>Federal Funds Lower Target</th>\n",
       "      <th>Effective Federal Funds Rate</th>\n",
       "      <th>Real GDP (Percent Change)</th>\n",
       "      <th>Unemployment Rate</th>\n",
       "      <th>Inflation Rate</th>\n",
       "    </tr>\n",
       "  </thead>\n",
       "  <tbody>\n",
       "    <tr>\n",
       "      <th>count</th>\n",
       "      <td>0.0</td>\n",
       "      <td>0.0</td>\n",
       "      <td>0.0</td>\n",
       "      <td>0.0</td>\n",
       "      <td>0.0</td>\n",
       "      <td>0.0</td>\n",
       "      <td>0.0</td>\n",
       "      <td>0.0</td>\n",
       "      <td>0.0</td>\n",
       "      <td>0.0</td>\n",
       "    </tr>\n",
       "    <tr>\n",
       "      <th>mean</th>\n",
       "      <td>NaN</td>\n",
       "      <td>NaN</td>\n",
       "      <td>NaN</td>\n",
       "      <td>NaN</td>\n",
       "      <td>NaN</td>\n",
       "      <td>NaN</td>\n",
       "      <td>NaN</td>\n",
       "      <td>NaN</td>\n",
       "      <td>NaN</td>\n",
       "      <td>NaN</td>\n",
       "    </tr>\n",
       "    <tr>\n",
       "      <th>std</th>\n",
       "      <td>NaN</td>\n",
       "      <td>NaN</td>\n",
       "      <td>NaN</td>\n",
       "      <td>NaN</td>\n",
       "      <td>NaN</td>\n",
       "      <td>NaN</td>\n",
       "      <td>NaN</td>\n",
       "      <td>NaN</td>\n",
       "      <td>NaN</td>\n",
       "      <td>NaN</td>\n",
       "    </tr>\n",
       "    <tr>\n",
       "      <th>min</th>\n",
       "      <td>NaN</td>\n",
       "      <td>NaN</td>\n",
       "      <td>NaN</td>\n",
       "      <td>NaN</td>\n",
       "      <td>NaN</td>\n",
       "      <td>NaN</td>\n",
       "      <td>NaN</td>\n",
       "      <td>NaN</td>\n",
       "      <td>NaN</td>\n",
       "      <td>NaN</td>\n",
       "    </tr>\n",
       "    <tr>\n",
       "      <th>25%</th>\n",
       "      <td>NaN</td>\n",
       "      <td>NaN</td>\n",
       "      <td>NaN</td>\n",
       "      <td>NaN</td>\n",
       "      <td>NaN</td>\n",
       "      <td>NaN</td>\n",
       "      <td>NaN</td>\n",
       "      <td>NaN</td>\n",
       "      <td>NaN</td>\n",
       "      <td>NaN</td>\n",
       "    </tr>\n",
       "    <tr>\n",
       "      <th>50%</th>\n",
       "      <td>NaN</td>\n",
       "      <td>NaN</td>\n",
       "      <td>NaN</td>\n",
       "      <td>NaN</td>\n",
       "      <td>NaN</td>\n",
       "      <td>NaN</td>\n",
       "      <td>NaN</td>\n",
       "      <td>NaN</td>\n",
       "      <td>NaN</td>\n",
       "      <td>NaN</td>\n",
       "    </tr>\n",
       "    <tr>\n",
       "      <th>75%</th>\n",
       "      <td>NaN</td>\n",
       "      <td>NaN</td>\n",
       "      <td>NaN</td>\n",
       "      <td>NaN</td>\n",
       "      <td>NaN</td>\n",
       "      <td>NaN</td>\n",
       "      <td>NaN</td>\n",
       "      <td>NaN</td>\n",
       "      <td>NaN</td>\n",
       "      <td>NaN</td>\n",
       "    </tr>\n",
       "    <tr>\n",
       "      <th>max</th>\n",
       "      <td>NaN</td>\n",
       "      <td>NaN</td>\n",
       "      <td>NaN</td>\n",
       "      <td>NaN</td>\n",
       "      <td>NaN</td>\n",
       "      <td>NaN</td>\n",
       "      <td>NaN</td>\n",
       "      <td>NaN</td>\n",
       "      <td>NaN</td>\n",
       "      <td>NaN</td>\n",
       "    </tr>\n",
       "  </tbody>\n",
       "</table>\n",
       "</div>"
      ],
      "text/plain": [
       "       Year  Month  Day  Federal Funds Target Rate  \\\n",
       "count   0.0    0.0  0.0                        0.0   \n",
       "mean    NaN    NaN  NaN                        NaN   \n",
       "std     NaN    NaN  NaN                        NaN   \n",
       "min     NaN    NaN  NaN                        NaN   \n",
       "25%     NaN    NaN  NaN                        NaN   \n",
       "50%     NaN    NaN  NaN                        NaN   \n",
       "75%     NaN    NaN  NaN                        NaN   \n",
       "max     NaN    NaN  NaN                        NaN   \n",
       "\n",
       "       Federal Funds Upper Target  Federal Funds Lower Target  \\\n",
       "count                         0.0                         0.0   \n",
       "mean                          NaN                         NaN   \n",
       "std                           NaN                         NaN   \n",
       "min                           NaN                         NaN   \n",
       "25%                           NaN                         NaN   \n",
       "50%                           NaN                         NaN   \n",
       "75%                           NaN                         NaN   \n",
       "max                           NaN                         NaN   \n",
       "\n",
       "       Effective Federal Funds Rate  Real GDP (Percent Change)  \\\n",
       "count                           0.0                        0.0   \n",
       "mean                            NaN                        NaN   \n",
       "std                             NaN                        NaN   \n",
       "min                             NaN                        NaN   \n",
       "25%                             NaN                        NaN   \n",
       "50%                             NaN                        NaN   \n",
       "75%                             NaN                        NaN   \n",
       "max                             NaN                        NaN   \n",
       "\n",
       "       Unemployment Rate  Inflation Rate  \n",
       "count                0.0             0.0  \n",
       "mean                 NaN             NaN  \n",
       "std                  NaN             NaN  \n",
       "min                  NaN             NaN  \n",
       "25%                  NaN             NaN  \n",
       "50%                  NaN             NaN  \n",
       "75%                  NaN             NaN  \n",
       "max                  NaN             NaN  "
      ]
     },
     "execution_count": 23,
     "metadata": {},
     "output_type": "execute_result"
    }
   ],
   "source": [
    "df_male = train.loc[train['Year']=='Effective Federal Funds Rate']\n",
    "df_male.head()\n",
    "df_male.median()\n",
    "df_male.describe()"
   ]
  },
  {
   "cell_type": "code",
   "execution_count": null,
   "metadata": {},
   "outputs": [],
   "source": []
  }
 ],
 "metadata": {
  "kernelspec": {
   "display_name": "Python 3",
   "language": "python",
   "name": "python3"
  },
  "language_info": {
   "codemirror_mode": {
    "name": "ipython",
    "version": 3
   },
   "file_extension": ".py",
   "mimetype": "text/x-python",
   "name": "python",
   "nbconvert_exporter": "python",
   "pygments_lexer": "ipython3",
   "version": "3.7.3"
  }
 },
 "nbformat": 4,
 "nbformat_minor": 2
}
